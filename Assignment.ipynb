{
  "metadata": {
    "language_info": {
      "codemirror_mode": {
        "name": "python",
        "version": 3
      },
      "file_extension": ".py",
      "mimetype": "text/x-python",
      "name": "python",
      "nbconvert_exporter": "python",
      "pygments_lexer": "ipython3",
      "version": "3.8"
    },
    "kernelspec": {
      "name": "python",
      "display_name": "Pyolite",
      "language": "python"
    }
  },
  "nbformat_minor": 4,
  "nbformat": 4,
  "cells": [
    {
      "cell_type": "markdown",
      "source": "<h1>My Jupyter Notebook on IBM Watson Studio</h1>",
      "metadata": {}
    },
    {
      "cell_type": "markdown",
      "source": "<b>Kartik Arora</b>\n<br>Consultant",
      "metadata": {}
    },
    {
      "cell_type": "markdown",
      "source": "<i>I am interested in data science because of my curios nature and this helps me explore the unknown.</i>",
      "metadata": {}
    },
    {
      "cell_type": "markdown",
      "source": "<h3> Add two numbers a and b and display the sum</h3>",
      "metadata": {}
    },
    {
      "cell_type": "code",
      "source": "a=1\nb=2\nprint(\"Sum = \" + str(a+b))",
      "metadata": {
        "trusted": true
      },
      "execution_count": 6,
      "outputs": [
        {
          "name": "stdout",
          "text": "Sum = 3\n",
          "output_type": "stream"
        }
      ]
    },
    {
      "cell_type": "code",
      "source": "",
      "metadata": {},
      "execution_count": null,
      "outputs": []
    }
  ]
}